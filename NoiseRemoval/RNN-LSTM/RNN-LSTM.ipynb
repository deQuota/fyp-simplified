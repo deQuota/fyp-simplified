{
 "cells": [
  {
   "cell_type": "code",
   "execution_count": 83,
   "metadata": {
    "collapsed": true
   },
   "outputs": [],
   "source": [
    "from __future__ import division\n",
    "import numpy as np\n",
    "import pandas as pd\n",
    "import matplotlib.pyplot as plt\n",
    "import matplotlib.patches as mpatches\n",
    "from keras.layers.core import Dense, Activation, Dropout\n",
    "from keras.layers.recurrent import LSTM\n",
    "from keras.models import Sequential, load_model\n",
    "from sklearn import preprocessing\n",
    "from datetime import datetime, timedelta\n",
    "import time\n",
    "from collections import Counter\n",
    "import os\n"
   ]
  },
  {
   "cell_type": "code",
   "execution_count": 84,
   "metadata": {},
   "outputs": [],
   "source": [
    "def prettify_ax(ax):\n",
    "    ''' make an axis pretty '''\n",
    "    for spine in ax.spines.values():\n",
    "        spine.set_visible(False)\n",
    "    ax.set_frameon=True\n",
    "    ax.patch.set_facecolor('#eeeeef')\n",
    "    ax.grid('on', color='w', linestyle='-', linewidth=1)\n",
    "    ax.tick_params(direction='out')\n",
    "    ax.set_axisbelow(True)\n",
    "    \n",
    "def simple_ax(figsize=(6,4), **kwargs):\n",
    "    ''' single prettified axis '''\n",
    "    fig = plt.figure(figsize=figsize)\n",
    "    ax = fig.add_subplot(111, **kwargs)\n",
    "    prettify_ax(ax)\n",
    "    return fig, ax\n",
    "\n",
    "def earliest_date_after(query_date, date_list):\n",
    "    ''' find the earliest date after a query date from ordered list of dates '''\n",
    "    for i in range(len(date_list)):\n",
    "        if query_date < date_list[i].date():\n",
    "            return date_list[i].date()\n",
    "    print('\\nQUERY DATE ERROR WITH:', query_date, '\\n')\n",
    "    raise Exception('No values after query date')\n",
    "\n",
    "def latest_date_before(query_date, date_list):\n",
    "    ''' find the latest date before a query date from ordered list of dates '''\n",
    "    for i in range(len(date_list)):\n",
    "        if query_date < date_list[i].date():\n",
    "            if i==0:\n",
    "                print('\\nQUERY DATE ERROR WITH:', query_date, '\\n')\n",
    "                raise Exception('No values before query date in list')\n",
    "            return date_list[i-1].date()\n",
    "        \n",
    "def inv_price_transform(normalized_data, scaler):\n",
    "    ''' inverse from normalized price to raw price '''\n",
    "    m = scaler.mean_[0]\n",
    "    s = scaler.scale_[0]\n",
    "    return s*np.array(normalized_data)+m"
   ]
  },
  {
   "cell_type": "code",
   "execution_count": 85,
   "metadata": {},
   "outputs": [
    {
     "name": "stdout",
     "output_type": "stream",
     "text": [
      "0/1001 rows done.\n"
     ]
    },
    {
     "name": "stdout",
     "output_type": "stream",
     "text": [
      "100/1001 rows done.\n"
     ]
    },
    {
     "name": "stdout",
     "output_type": "stream",
     "text": [
      "200/1001 rows done.\n"
     ]
    },
    {
     "name": "stdout",
     "output_type": "stream",
     "text": [
      "300/1001 rows done.\n"
     ]
    },
    {
     "name": "stdout",
     "output_type": "stream",
     "text": [
      "400/1001 rows done.\n"
     ]
    },
    {
     "name": "stdout",
     "output_type": "stream",
     "text": [
      "500/1001 rows done.\n"
     ]
    },
    {
     "name": "stdout",
     "output_type": "stream",
     "text": [
      "600/1001 rows done.\n"
     ]
    },
    {
     "name": "stdout",
     "output_type": "stream",
     "text": [
      "700/1001 rows done.\n"
     ]
    },
    {
     "name": "stdout",
     "output_type": "stream",
     "text": [
      "800/1001 rows done.\n"
     ]
    },
    {
     "name": "stdout",
     "output_type": "stream",
     "text": [
      "900/1001 rows done.\n"
     ]
    },
    {
     "name": "stdout",
     "output_type": "stream",
     "text": [
      "1000/1001 rows done.\n\n%s dataframe prepped. %i timepoints, each with %i features. 1001 1\n"
     ]
    }
   ],
   "source": [
    "def prep_data(stock_file = 'gaussian.csv'):\n",
    "    ''' merge stock closing price data, sec filing data, and newspaper sentiment into one dataframe '''\n",
    "    \n",
    "    # load data\n",
    "    stock_df = pd.read_csv(stock_file)\n",
    "    stock_df = stock_df.Gaus\n",
    "    stock_df.index = pd.to_datetime(pd.read_csv(stock_file).Date)\n",
    "    return_df = pd.DataFrame(columns=[stock_df.name])\n",
    "    \n",
    "    # iterate through rows, aggregating all data and appending to return_df\n",
    "    for row_num in range(stock_df.shape[0]):\n",
    "        new_row = []\n",
    "        stock_date = stock_df.index[row_num].date()\n",
    "        new_row += [stock_df.iloc[row_num]]\n",
    "        return_df.loc[stock_date] = new_row\n",
    "        if row_num % 100 == 0:\n",
    "            print(\"%i/%i rows done.\" % (row_num, stock_df.shape[0])),\n",
    "    print(\"\\n%s dataframe prepped. %i timepoints, each with %i features.\"\n",
    "    , return_df.shape[0], return_df.shape[1])\n",
    "    return return_df\n",
    "\n",
    "# practice with AAPL stock data\n",
    "\n",
    "\n",
    "bogawanthalawa_df = prep_data()"
   ]
  },
  {
   "cell_type": "code",
   "execution_count": 86,
   "metadata": {},
   "outputs": [
    {
     "data": {
      "text/html": [
       "<div>\n",
       "<style scoped>\n",
       "    .dataframe tbody tr th:only-of-type {\n",
       "        vertical-align: middle;\n",
       "    }\n",
       "\n",
       "    .dataframe tbody tr th {\n",
       "        vertical-align: top;\n",
       "    }\n",
       "\n",
       "    .dataframe thead th {\n",
       "        text-align: right;\n",
       "    }\n",
       "</style>\n",
       "<table border=\"1\" class=\"dataframe\">\n",
       "  <thead>\n",
       "    <tr style=\"text-align: right;\">\n",
       "      <th></th>\n",
       "      <th>Gaus</th>\n",
       "    </tr>\n",
       "  </thead>\n",
       "  <tbody>\n",
       "    <tr>\n",
       "      <th>2013-01-02</th>\n",
       "      <td>12.049595</td>\n",
       "    </tr>\n",
       "    <tr>\n",
       "      <th>2013-01-03</th>\n",
       "      <td>12.050654</td>\n",
       "    </tr>\n",
       "    <tr>\n",
       "      <th>2013-01-04</th>\n",
       "      <td>12.052997</td>\n",
       "    </tr>\n",
       "    <tr>\n",
       "      <th>2013-01-07</th>\n",
       "      <td>12.057036</td>\n",
       "    </tr>\n",
       "    <tr>\n",
       "      <th>2013-01-08</th>\n",
       "      <td>12.063284</td>\n",
       "    </tr>\n",
       "  </tbody>\n",
       "</table>\n",
       "</div>"
      ],
      "text/plain": [
       "<div>\n",
       "<style scoped>\n",
       "    .dataframe tbody tr th:only-of-type {\n",
       "        vertical-align: middle;\n",
       "    }\n",
       "\n",
       "    .dataframe tbody tr th {\n",
       "        vertical-align: top;\n",
       "    }\n",
       "\n",
       "    .dataframe thead th {\n",
       "        text-align: right;\n",
       "    }\n",
       "</style>\n",
       "<table border=\"1\" class=\"dataframe\">\n",
       "  <thead>\n",
       "    <tr style=\"text-align: right;\">\n",
       "      <th></th>\n",
       "      <th>Gaus</th>\n",
       "    </tr>\n",
       "  </thead>\n",
       "  <tbody>\n",
       "    <tr>\n",
       "      <th>2013-01-02</th>\n",
       "      <td>12.049595</td>\n",
       "    </tr>\n",
       "    <tr>\n",
       "      <th>2013-01-03</th>\n",
       "      <td>12.050654</td>\n",
       "    </tr>\n",
       "    <tr>\n",
       "      <th>2013-01-04</th>\n",
       "      <td>12.052997</td>\n",
       "    </tr>\n",
       "    <tr>\n",
       "      <th>2013-01-07</th>\n",
       "      <td>12.057036</td>\n",
       "    </tr>\n",
       "    <tr>\n",
       "      <th>2013-01-08</th>\n",
       "      <td>12.063284</td>\n",
       "    </tr>\n",
       "  </tbody>\n",
       "</table>\n",
       "</div>"
      ]
     },
     "execution_count": 86,
     "metadata": {},
     "output_type": "execute_result"
    }
   ],
   "source": [
    "bogawanthalawa_df.head()"
   ]
  },
  {
   "cell_type": "code",
   "execution_count": 87,
   "metadata": {},
   "outputs": [],
   "source": [
    "def load_stock(df, lookback=25):\n",
    "    ''' scale data and split into training/test sets '''\n",
    "    data = df.values\n",
    "    n_train = list(df.index).index(df.index[-1]+timedelta(-100))\n",
    "    scaler = preprocessing.StandardScaler() #normalize mean-zero, unit-variance\n",
    "    scaler.fit(data[:n_train,:])\n",
    "    data = scaler.transform(data)\n",
    "    dataX, dataY = [], []\n",
    "    for timepoint in range(data.shape[0]-lookback):\n",
    "        dataX.append(data[timepoint:timepoint+lookback,:])\n",
    "        dataY.append(data[timepoint+lookback,0])\n",
    "    X_train, X_test = dataX[:n_train], dataX[n_train:]\n",
    "    y_train, y_test = dataY[:n_train], dataY[n_train:]\n",
    "    return np.array(X_train), np.array(y_train), np.array(X_test), np.array(y_test), scaler\n",
    "\n",
    "# load practice stock, AAPL\n",
    "lookback = 25\n",
    "X_train, y_train, X_test, y_test, scaler = load_stock(df=bogawanthalawa_df, lookback=lookback)"
   ]
  },
  {
   "cell_type": "code",
   "execution_count": 88,
   "metadata": {},
   "outputs": [
    {
     "name": "stdout",
     "output_type": "stream",
     "text": [
      "936 training examples, 40 test examples\n"
     ]
    }
   ],
   "source": [
    "print(\"%i training examples, %i test examples\" % (len(y_train), len(y_test)))\n",
    "\n",
    "f,a = simple_ax(figsize=(10,6))\n",
    "a.plot(range(len(y_train)), inv_price_transform(y_train, scaler), c='b', label='Training Data')\n",
    "a.plot(range(len(y_train),len(y_test)+len(y_train)), inv_price_transform(y_test, scaler), c='r', label='Test Data')\n",
    "a.set_title('Bogawanthalawa Normalized Stock Price Data')\n",
    "a.set_xlabel('Day')\n",
    "a.set_ylabel('Closing price')\n",
    "plt.legend()\n",
    "plt.show()"
   ]
  },
  {
   "cell_type": "code",
   "execution_count": 89,
   "metadata": {},
   "outputs": [
    {
     "name": "stdout",
     "output_type": "stream",
     "text": [
      "_________________________________________________________________\nLayer (type)                 Output Shape              Param #   \n=================================================================\nlstm_7 (LSTM)                (None, 25, 128)           66560     \n_________________________________________________________________\ndropout_7 (Dropout)          (None, 25, 128)           0         \n_________________________________________________________________\nlstm_8 (LSTM)                (None, 128)               131584    \n_________________________________________________________________\ndropout_8 (Dropout)          (None, 128)               0         \n_________________________________________________________________\ndense_4 (Dense)              (None, 1)                 129       \n=================================================================\nTotal params: 198,273\nTrainable params: 198,273\nNon-trainable params: 0\n_________________________________________________________________\n"
     ]
    }
   ],
   "source": [
    "model = Sequential()\n",
    "model.add(LSTM(128, input_shape=(X_train.shape[1],X_train.shape[2]), return_sequences=True))\n",
    "model.add(Dropout(0.2))\n",
    "model.add(LSTM(128, return_sequences=False))\n",
    "model.add(Dropout(0.2))\n",
    "#model.add(Dense(32, kernel_initializer=\"uniform\", activation='relu'))        \n",
    "model.add(Dense(1, activation='linear'))\n",
    "model.compile(loss='mse', optimizer='rmsprop')\n",
    "model.summary()"
   ]
  },
  {
   "cell_type": "code",
   "execution_count": 90,
   "metadata": {},
   "outputs": [
    {
     "name": "stdout",
     "output_type": "stream",
     "text": [
      "TRAINING DONE. 408 seconds to train.\n"
     ]
    }
   ],
   "source": [
    "t0 = time.time()\n",
    "history = model.fit(\n",
    "            X_train,\n",
    "            y_train,\n",
    "            batch_size=512,\n",
    "            epochs=200,\n",
    "            validation_split=0.05,\n",
    "            verbose=0)\n",
    "print(\"TRAINING DONE. %i seconds to train.\" % int(time.time()-t0))"
   ]
  },
  {
   "cell_type": "code",
   "execution_count": 91,
   "metadata": {},
   "outputs": [],
   "source": [
    "f,a = simple_ax(figsize=(10,6))\n",
    "a.plot(history.history['loss'], label='loss')\n",
    "a.plot(history.history['val_loss'], label='val_loss')\n",
    "a.set_title('Training Losses')\n",
    "a.set_xlabel('Epoch')\n",
    "a.set_ylabel('MSE Loss')\n",
    "plt.legend()\n",
    "plt.show()"
   ]
  },
  {
   "cell_type": "code",
   "execution_count": 92,
   "metadata": {},
   "outputs": [],
   "source": [
    "model.save('bogawanthalawa_first.h5')"
   ]
  },
  {
   "cell_type": "code",
   "execution_count": null,
   "metadata": {},
   "outputs": [],
   "source": [
    "model = load_model('bogawanthalawa_first.h5')"
   ]
  },
  {
   "cell_type": "code",
   "execution_count": 125,
   "metadata": {},
   "outputs": [
    {
     "name": "stdout",
     "output_type": "stream",
     "text": [
      "RMSE:  618.2700766322805\n"
     ]
    }
   ],
   "source": [
    "predictions = model.predict(X_test)\n",
    "print(\"RMSE: \", np.sqrt(np.mean((predictions-y_test)**2)))\n",
    "\n",
    "f, a = simple_ax(figsize=(10,6))\n",
    "a.plot(predictions1, c='b', label='predictions')\n",
    "a.plot(y_test1, c='r', label='actual')\n",
    "a.plot(stock_df, c='g', label='actual')\n",
    "a.set_ylabel('Normalized closing price')\n",
    "a.set_xlabel('Day')\n",
    "a.set_title('Bogawanthalawa Test Set Predictions')\n",
    "plt.legend()\n",
    "plt.show()"
   ]
  },
  {
   "cell_type": "code",
   "execution_count": 95,
   "metadata": {},
   "outputs": [
    {
     "name": "stdout",
     "output_type": "stream",
     "text": [
      "MAPE %f 7.327474137460921\n"
     ]
    }
   ],
   "source": [
    "def mean_absolute_percentage_error(y_true, y_pred):\n",
    "\n",
    "    return np.mean(np.abs((y_true - y_pred) / y_true)) * 100\n",
    "\n",
    "\n",
    "print(\"MAPE %f\",mean_absolute_percentage_error(y_test, predictions))"
   ]
  },
  {
   "cell_type": "code",
   "execution_count": 96,
   "metadata": {},
   "outputs": [],
   "source": [
    "def predict_days(startday, days_topredict, data, model):\n",
    "    ''' starting from startday predict days_topredict stock prices '''\n",
    "    curr_data = data[startday,:,:]\n",
    "    predictions = []\n",
    "    for day in range(days_topredict):\n",
    "        prediction = model.predict(curr_data.reshape(1,curr_data.shape[0],curr_data.shape[1]))[0][0]\n",
    "        predictions.append(prediction)\n",
    "        new_row = curr_data[-1,:]\n",
    "        new_row[0] = prediction\n",
    "        curr_data = np.vstack((curr_data[1:,:], new_row))\n",
    "    return predictions"
   ]
  },
  {
   "cell_type": "code",
   "execution_count": 80,
   "metadata": {},
   "outputs": [],
   "source": [
    "days = 30\n",
    "f, a = simple_ax(figsize=(10,6))\n",
    "a.plot(inv_price_transform(y_test,scaler), c='k')\n",
    "for segment in range(int(len(y_test)/days)):\n",
    "    predictions = predict_days(segment*days, days, X_test, model)\n",
    "    a.plot(range(segment*days, segment*days+days), inv_price_transform(predictions, scaler))\n",
    "    a.axvline(segment*days, c='k', linestyle='dashed', linewidth=1)\n",
    "    a.axvline(segment*days+days, c='k', linestyle='dashed', linewidth=1)\n",
    "a.set_xlabel('Day')\n",
    "a.set_ylabel('Price')\n",
    "a.set_title('AAPL Test Set 30 Day Lookahead')\n",
    "plt.show()"
   ]
  },
  {
   "cell_type": "code",
   "execution_count": 81,
   "metadata": {},
   "outputs": [
    {
     "name": "stdout",
     "output_type": "stream",
     "text": [
      "1/40 timepoints calculated.\n"
     ]
    },
    {
     "name": "stdout",
     "output_type": "stream",
     "text": [
      "21/40 timepoints calculated.\n"
     ]
    },
    {
     "name": "stdout",
     "output_type": "stream",
     "text": [
      "Data walk complete.\n"
     ]
    }
   ],
   "source": [
    "def decide_buy_sell(startpoint, days_topredict, data, model, return_threshold):\n",
    "    '''\n",
    "    predict future prices and return a market decision\n",
    "    - returns True: \"buy long\"\n",
    "    - returns False: \"sell short\"\n",
    "    - returns None: \"do nothing\"\n",
    "    '''\n",
    "    predictions = predict_days(startpoint, days_topredict, data, model)\n",
    "    startprice, maxprice, minprice = predictions[0], max(predictions), min(predictions)\n",
    "    buyreturn = (maxprice-startprice)/startprice\n",
    "    sellreturn = (startprice-minprice)/startprice\n",
    "    if buyreturn>=sellreturn and buyreturn>=return_threshold:\n",
    "        return True\n",
    "    elif sellreturn>buyreturn and sellreturn>=return_threshold:\n",
    "        return False\n",
    "    return None\n",
    "\n",
    "def walk_buy_sell(data, model, return_threshold=.05, days_topredict=30):\n",
    "    ''' walk data making buy/sell decisions '''\n",
    "    buy_dates, sell_dates = [], []\n",
    "    for t in range(len(y_test)):\n",
    "        decision = decide_buy_sell(t, days_topredict, data, model, return_threshold)\n",
    "        if decision is True:\n",
    "            buy_dates.append(t)\n",
    "        elif decision is False:\n",
    "            sell_dates.append(t)\n",
    "        if t%20==0:\n",
    "            print(\"%i/%i timepoints calculated.\" % (t+1,len(y_test))),\n",
    "    print(\"Data walk complete.\")\n",
    "    return buy_dates, sell_dates\n",
    "\n",
    "buy_dates, sell_dates = walk_buy_sell(X_test, model, return_threshold=0.5, days_topredict=30)"
   ]
  },
  {
   "cell_type": "code",
   "execution_count": 82,
   "metadata": {},
   "outputs": [],
   "source": [
    "f,a = simple_ax(figsize=(10,6))\n",
    "a.plot(inv_price_transform(y_test, scaler), c='k')\n",
    "a.scatter(buy_dates, inv_price_transform(y_test[buy_dates],scaler), c='g')\n",
    "a.scatter(sell_dates, inv_price_transform(y_test[sell_dates],scaler), c='r')\n",
    "a.set_xlabel('Day')\n",
    "a.set_ylabel('Price')\n",
    "a.set_title('Buy/Sell Decisions for AAPL Test Set')\n",
    "recs = [mpatches.Rectangle((0,0),1,1,fc='g'), mpatches.Rectangle((0,0),1,1,fc='r')]\n",
    "a.legend(recs,['buy', 'sell'], loc=2, prop={'size':14})\n",
    "plt.show()"
   ]
  },
  {
   "cell_type": "code",
   "execution_count": null,
   "metadata": {},
   "outputs": [],
   "source": []
  }
 ],
 "metadata": {
  "kernelspec": {
   "display_name": "Python 2",
   "language": "python",
   "name": "python2"
  },
  "language_info": {
   "codemirror_mode": {
    "name": "ipython",
    "version": 2
   },
   "file_extension": ".py",
   "mimetype": "text/x-python",
   "name": "python",
   "nbconvert_exporter": "python",
   "pygments_lexer": "ipython2",
   "version": "2.7.6"
  }
 },
 "nbformat": 4,
 "nbformat_minor": 0
}
